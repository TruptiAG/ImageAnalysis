{
 "cells": [
  {
   "cell_type": "markdown",
   "metadata": {},
   "source": [
    "For Xinhong"
   ]
  },
  {
   "cell_type": "code",
   "execution_count": 4,
   "metadata": {},
   "outputs": [],
   "source": [
    "# import necessary modules\n",
    "from skimage import io\n",
    "import matplotlib.pyplot as plt\n",
    "import numpy as np\n",
    "import skimage.filters as filters\n",
    "import skimage.color as color\n",
    "from PIL import Image\n",
    "import pandas as pd\n",
    "from skimage.util import img_as_float\n",
    "from skimage.color import label2rgb, rgb2gray,gray2rgb\n",
    "from skimage import segmentation,morphology,feature,measure\n",
    "from scipy import ndimage as ndi\n",
    "import glob\n",
    "from natsort import natsorted \n",
    "import os"
   ]
  },
  {
   "cell_type": "code",
   "execution_count": 5,
   "metadata": {},
   "outputs": [],
   "source": [
    "# import function file\n",
    "%run functions.ipynb"
   ]
  },
  {
   "cell_type": "code",
   "execution_count": 28,
   "metadata": {},
   "outputs": [],
   "source": [
    "# select the path of the folder where the images are stored\n",
    "\n",
    "#DMSO\n",
    "#fol_path=\"XMovie/Expt2020_017_setIII_STLC_GM132_DMSO_mKate2-Astrin_Nuf2-GFP_GFP_mCherry_timelapse_03_R3D_D3D\"\n",
    "#fol_path=\"XMovie/Expt2020_017_setIII_STLC_GM132_DMSO_mKate2-Astrin_Nuf2-GFP_GFP_mCherry_timelapse_05_R3D_D3D\"\n",
    "#fol_path=\"XMovie/Expt2020_017_setV_STLC_MG132_DMSO_mKate2-Astrin_Nuf2-GFP_GFP_mCherry_01_R3D_D3D\"\n",
    "#fol_path=\"Xmovie/Expt2020_017_setV_STLC_MG132_DMSO_mKate2-Astrin_Nuf2-GFP_GFP_mCherry_02_R3D_D3D\"\n",
    "\n",
    "#CDKi\n",
    "\n",
    "#fol_path=\"XMovie/Expt2020_017_setIII_STLC_GM132_RO3306_mKate2-Astrin_Nuf2-GFP_GFP_timelapse_03_R3D_D3D\"\n",
    "#fol_path=\"XMovie/Expt2020_017_setIII_STLC_GM132_RO3306_mKate2-Astrin_Nuf2-GFP_GFP_timelapse_05_R3D_D3D\"\n",
    "#fol_path=\"XMovie/Expt2020_017_setV_STLC_MG132_RO_mKate2-Astrin_Nuf2-GFP_GFP_mCherry_03_R3D_D3D\" # done\n",
    "#fol_path=\"XMovie/Expt2020_017_setV_STLC_MG132_RO_mKate2-Astrin_Nuf2-GFP_GFP_mCherry_04_R3D_D3D\"\n"
   ]
  },
  {
   "cell_type": "code",
   "execution_count": 29,
   "metadata": {},
   "outputs": [
    {
     "name": "stdout",
     "output_type": "stream",
     "text": [
      "Datapoints before removing the outliers :  1344\n",
      "Datapoints after removing the outliers:  1149\n"
     ]
    }
   ],
   "source": [
    "df_green,df_red=prewitt_method1_BG(fol_path)\n",
    "df_bg=pd.merge(df_green, df_red,  how='outer',on=['label','area','eccentricity','perimeter'],suffixes=('_green', '_red'))\n",
    "df_bg['intensity_ratio'] = df_bg['mean_intensity_green']/df_bg['mean_intensity_red']\n",
    "print(\"Datapoints before removing the outliers : \" ,len(df_bg))\n",
    "df_bg.to_csv(os.path.join(fol_path,'ParticleMeasurements-WithBGCorrection'+'.csv')) # write to csv before removing the outliers\n",
    "df_bg=outliers(df_bg)\n",
    "df_bg.to_csv(os.path.join(fol_path,'ParticleMeasurements-OutlierRemoved-WithBGCorrection'+'.csv')) # write to csv after removing the outliers\n",
    "print(\"Datapoints after removing the outliers: \" ,len(df_bg))"
   ]
  },
  {
   "cell_type": "code",
   "execution_count": 30,
   "metadata": {},
   "outputs": [
    {
     "name": "stdout",
     "output_type": "stream",
     "text": [
      "Datapoints before removing the outliers :  1344\n",
      "Datapoints after removing the outliers:  1309\n"
     ]
    }
   ],
   "source": [
    "df_green,df_red=prewitt_method1_noBG(fol_path)\n",
    "df_No_bg=pd.merge(df_green, df_red,  how='outer',on=['label','area','eccentricity','perimeter'],suffixes=('_green', '_red'))\n",
    "df_No_bg['intensity_ratio'] = df_No_bg['mean_intensity_green']/df_No_bg['mean_intensity_red']\n",
    "print(\"Datapoints before removing the outliers : \" ,len(df_No_bg))\n",
    "df_No_bg.to_csv(os.path.join(fol_path,'ParticleMeasurements-WithOut_BGCorrection'+'.csv')) # write to csv before removing the outliers\n",
    "df_No_bg=outliers(df_No_bg)\n",
    "df_bg.to_csv(os.path.join(fol_path,'ParticleMeasurements-OutlierRemoved-WithOut-BGCorrection'+'.csv')) # write to csv after removing the outliers\n",
    "\n",
    "print(\"Datapoints after removing the outliers: \" ,len(df_No_bg))"
   ]
  },
  {
   "cell_type": "code",
   "execution_count": null,
   "metadata": {},
   "outputs": [],
   "source": []
  }
 ],
 "metadata": {
  "kernelspec": {
   "display_name": "Python 3",
   "language": "python",
   "name": "python3"
  },
  "language_info": {
   "codemirror_mode": {
    "name": "ipython",
    "version": 3
   },
   "file_extension": ".py",
   "mimetype": "text/x-python",
   "name": "python",
   "nbconvert_exporter": "python",
   "pygments_lexer": "ipython3",
   "version": "3.7.9"
  }
 },
 "nbformat": 4,
 "nbformat_minor": 4
}
