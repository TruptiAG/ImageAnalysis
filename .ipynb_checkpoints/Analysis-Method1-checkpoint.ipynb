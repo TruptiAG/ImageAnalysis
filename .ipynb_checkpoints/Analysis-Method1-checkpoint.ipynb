{
 "cells": [
  {
   "cell_type": "markdown",
   "metadata": {},
   "source": [
    "To measure PP1 intensities "
   ]
  },
  {
   "cell_type": "code",
   "execution_count": 1,
   "metadata": {},
   "outputs": [],
   "source": [
    "# import necessary modules\n",
    "from skimage import io\n",
    "import matplotlib.pyplot as plt\n",
    "import numpy as np\n",
    "import skimage.filters as filters\n",
    "import skimage.color as color\n",
    "from PIL import Image\n",
    "import pandas as pd\n",
    "from skimage.util import img_as_float\n",
    "from skimage.color import label2rgb, rgb2gray,gray2rgb\n",
    "from skimage import segmentation,morphology,feature,measure\n",
    "from scipy import ndimage as ndi\n",
    "import glob\n",
    "from natsort import natsorted \n",
    "import os"
   ]
  },
  {
   "cell_type": "code",
   "execution_count": 2,
   "metadata": {},
   "outputs": [],
   "source": [
    "# import function file\n",
    "%run functions.ipynb"
   ]
  },
  {
   "cell_type": "code",
   "execution_count": 6,
   "metadata": {},
   "outputs": [],
   "source": [
    "# path to the local folder for the notebooks\n",
    "BASE_DIR=\"/Users/Trupti/01-LIDo/02-VijiProject/ImageAnalysis/\" \n",
    "#path to the image folder.\n",
    "IMAGE_DIR=BASE_DIR + \"data/XMovie/\"#os.path.join(path,\"data\",\"\")\n"
   ]
  },
  {
   "cell_type": "markdown",
   "metadata": {},
   "source": [
    "#### Select the path for the image folder"
   ]
  },
  {
   "cell_type": "code",
   "execution_count": 11,
   "metadata": {},
   "outputs": [],
   "source": [
    "dmso_path=[IMAGE_DIR + \"Expt2020_017_setIII_STLC_GM132_DMSO_mKate2-Astrin_Nuf2-GFP_GFP_mCherry_timelapse_03_R3D_D3D/\",\n",
    "          IMAGE_DIR + \"Expt2020_017_setIII_STLC_GM132_DMSO_mKate2-Astrin_Nuf2-GFP_GFP_mCherry_timelapse_05_R3D_D3D/\",\n",
    "          IMAGE_DIR + \"Expt2020_017_setV_STLC_MG132_DMSO_mKate2-Astrin_Nuf2-GFP_GFP_mCherry_01_R3D_D3D/\",\n",
    "          IMAGE_DIR + \"Expt2020_017_setV_STLC_MG132_DMSO_mKate2-Astrin_Nuf2-GFP_GFP_mCherry_02_R3D_D3D/\"]\n",
    "\n",
    "cdki_path=[IMAGE_DIR + \"Expt2020_017_setIII_STLC_GM132_RO3306_mKate2-Astrin_Nuf2-GFP_GFP_timelapse_03_R3D_D3D/\",\n",
    "          IMAGE_DIR + \"Expt2020_017_setIII_STLC_GM132_RO3306_mKate2-Astrin_Nuf2-GFP_GFP_timelapse_05_R3D_D3D/\",\n",
    "          IMAGE_DIR + \"Expt2020_017_setV_STLC_MG132_RO_mKate2-Astrin_Nuf2-GFP_GFP_mCherry_03_R3D_D3D/\",\n",
    "          IMAGE_DIR + \"Expt2020_017_setV_STLC_MG132_RO_mKate2-Astrin_Nuf2-GFP_GFP_mCherry_04_R3D_D3D/\"]"
   ]
  },
  {
   "cell_type": "markdown",
   "metadata": {},
   "source": [
    "### Create The DataFrames and CSVs\n"
   ]
  },
  {
   "cell_type": "markdown",
   "metadata": {},
   "source": [
    "#### With background correction"
   ]
  },
  {
   "cell_type": "code",
   "execution_count": 12,
   "metadata": {},
   "outputs": [
    {
     "name": "stdout",
     "output_type": "stream",
     "text": [
      "Datapoints before removing the outliers :  638\n",
      "Datapoints after removing the outliers:  576\n",
      "Datapoints before removing the outliers :  478\n",
      "Datapoints after removing the outliers:  384\n",
      "Datapoints before removing the outliers :  708\n",
      "Datapoints after removing the outliers:  640\n",
      "Datapoints before removing the outliers :  1344\n",
      "Datapoints after removing the outliers:  1149\n",
      "Method 1 with BG Correction is completed for ['/Users/Trupti/01-LIDo/02-VijiProject/ImageAnalysis/data/XMovie/Expt2020_017_setIII_STLC_GM132_RO3306_mKate2-Astrin_Nuf2-GFP_GFP_timelapse_03_R3D_D3D/', '/Users/Trupti/01-LIDo/02-VijiProject/ImageAnalysis/data/XMovie/Expt2020_017_setIII_STLC_GM132_RO3306_mKate2-Astrin_Nuf2-GFP_GFP_timelapse_05_R3D_D3D/', '/Users/Trupti/01-LIDo/02-VijiProject/ImageAnalysis/data/XMovie/Expt2020_017_setV_STLC_MG132_RO_mKate2-Astrin_Nuf2-GFP_GFP_mCherry_03_R3D_D3D/', '/Users/Trupti/01-LIDo/02-VijiProject/ImageAnalysis/data/XMovie/Expt2020_017_setV_STLC_MG132_RO_mKate2-Astrin_Nuf2-GFP_GFP_mCherry_04_R3D_D3D/'] folders\n"
     ]
    }
   ],
   "source": [
    "# uncomment the path for dmso and cdki and run this cell again\n",
    "\n",
    "#fol_path=list_cloning(dmso_path)\n",
    "fol_path=list_cloning(cdki_path)\n",
    "\n",
    "\n",
    "for i in range(len(fol_path)):\n",
    "    df_green,df_red=prewitt_method1_BG(fol_path[i])\n",
    "    df_bg=pd.merge(df_green, df_red,  how='outer',on=['label','area','eccentricity','perimeter'],suffixes=('_green', '_red'))\n",
    "    df_bg['intensity_ratio'] = df_bg['mean_intensity_green']/df_bg['mean_intensity_red']\n",
    "    print(\"Datapoints before removing the outliers : \" ,len(df_bg))\n",
    "    df_bg.to_csv(fol_path[i]+'ParticleMeasurements-WithBGCorrection'+'.csv') # write to csv before removing the outliers\n",
    "    df_bg=outliers(df_bg)\n",
    "    df_bg.to_csv(fol_path[i]+'ParticleMeasurements-OutlierRemoved-WithBGCorrection'+'.csv') # write to csv after removing the outliers\n",
    "    print(\"Datapoints after removing the outliers: \" ,len(df_bg))\n",
    "\n",
    "print(\"Method 1 with BG Correction is completed for %s folders\"%(fol_path))"
   ]
  },
  {
   "cell_type": "markdown",
   "metadata": {},
   "source": [
    "#### Without Background Correction\n"
   ]
  },
  {
   "cell_type": "code",
   "execution_count": 13,
   "metadata": {},
   "outputs": [
    {
     "name": "stdout",
     "output_type": "stream",
     "text": [
      "Datapoints before removing the outliers :  638\n",
      "Datapoints after removing the outliers:  605\n",
      "Datapoints before removing the outliers :  478\n",
      "Datapoints after removing the outliers:  418\n",
      "Datapoints before removing the outliers :  708\n",
      "Datapoints after removing the outliers:  643\n",
      "Datapoints before removing the outliers :  1344\n",
      "Datapoints after removing the outliers:  1309\n",
      "Method 1 without BG Correction is completed for ['/Users/Trupti/01-LIDo/02-VijiProject/ImageAnalysis/data/XMovie/Expt2020_017_setIII_STLC_GM132_RO3306_mKate2-Astrin_Nuf2-GFP_GFP_timelapse_03_R3D_D3D/', '/Users/Trupti/01-LIDo/02-VijiProject/ImageAnalysis/data/XMovie/Expt2020_017_setIII_STLC_GM132_RO3306_mKate2-Astrin_Nuf2-GFP_GFP_timelapse_05_R3D_D3D/', '/Users/Trupti/01-LIDo/02-VijiProject/ImageAnalysis/data/XMovie/Expt2020_017_setV_STLC_MG132_RO_mKate2-Astrin_Nuf2-GFP_GFP_mCherry_03_R3D_D3D/', '/Users/Trupti/01-LIDo/02-VijiProject/ImageAnalysis/data/XMovie/Expt2020_017_setV_STLC_MG132_RO_mKate2-Astrin_Nuf2-GFP_GFP_mCherry_04_R3D_D3D/'] folders\n"
     ]
    }
   ],
   "source": [
    "# uncomment the path for dmso and cdki and run this cell again\n",
    "\n",
    "#fol_path=list_cloning(dmso_path)\n",
    "fol_path=list_cloning(cdki_path)\n",
    "\n",
    "for i in range(len(fol_path)):\n",
    "    df_green,df_red=prewitt_method1_noBG(fol_path[i])\n",
    "    df_No_bg=pd.merge(df_green, df_red,  how='outer',on=['label','area','eccentricity','perimeter'],suffixes=('_green', '_red'))\n",
    "    df_No_bg['intensity_ratio'] = df_No_bg['mean_intensity_green']/df_No_bg['mean_intensity_red']\n",
    "    print(\"Datapoints before removing the outliers : \" ,len(df_No_bg))\n",
    "    df_No_bg.to_csv(os.path.join(fol_path[i],'ParticleMeasurements-WithOut_BGCorrection'+'.csv')) # write to csv before removing the outliers\n",
    "    df_No_bg=outliers(df_No_bg)\n",
    "    df_bg.to_csv(os.path.join(fol_path[i],'ParticleMeasurements-OutlierRemoved-WithOut-BGCorrection'+'.csv')) # write to csv after removing the outliers\n",
    "    print(\"Datapoints after removing the outliers: \" ,len(df_No_bg))\n",
    "    \n",
    "print(\"Method 1 without BG Correction is completed for %s folders\"%(fol_path))"
   ]
  },
  {
   "cell_type": "code",
   "execution_count": null,
   "metadata": {},
   "outputs": [],
   "source": []
  }
 ],
 "metadata": {
  "kernelspec": {
   "display_name": "Python 3",
   "language": "python",
   "name": "python3"
  },
  "language_info": {
   "codemirror_mode": {
    "name": "ipython",
    "version": 3
   },
   "file_extension": ".py",
   "mimetype": "text/x-python",
   "name": "python",
   "nbconvert_exporter": "python",
   "pygments_lexer": "ipython3",
   "version": "3.7.9"
  }
 },
 "nbformat": 4,
 "nbformat_minor": 4
}
