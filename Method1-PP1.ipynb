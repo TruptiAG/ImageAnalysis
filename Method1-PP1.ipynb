{
 "cells": [
  {
   "cell_type": "markdown",
   "metadata": {},
   "source": [
    "To measure PP1 intensities "
   ]
  },
  {
   "cell_type": "code",
   "execution_count": 1,
   "metadata": {
    "scrolled": true
   },
   "outputs": [],
   "source": [
    "# import necessary modules\n",
    "from skimage import io\n",
    "import matplotlib.pyplot as plt\n",
    "import numpy as np\n",
    "import skimage.filters as filters\n",
    "import skimage.color as color\n",
    "from PIL import Image\n",
    "import pandas as pd\n",
    "from skimage.util import img_as_float\n",
    "from skimage.color import label2rgb, rgb2gray,gray2rgb\n",
    "from skimage import segmentation,morphology,feature,measure,filters\n",
    "from scipy import ndimage as ndi\n",
    "import glob\n",
    "from natsort import natsorted \n",
    "import os\n",
    "import glob\n",
    "import re"
   ]
  },
  {
   "cell_type": "code",
   "execution_count": 6,
   "metadata": {
    "scrolled": true
   },
   "outputs": [],
   "source": [
    "# import function file\n",
    "%run functions-Method1.ipynb"
   ]
  },
  {
   "cell_type": "code",
   "execution_count": 7,
   "metadata": {
    "scrolled": true
   },
   "outputs": [],
   "source": [
    "# path to the local folder for the notebooks\n",
    "# change path to your folders accordingly\n",
    "BASE_DIR=\"/Users/Trupti/01-LIDo/02-VijiProject/ImageAnalysis/\" \n",
    "#path to the image folder. # change the name of the folder for different dataset\n",
    "FOLDER=\"set2_pp1\"\n",
    "IMAGE_DIR=BASE_DIR + \"data/XMovie/PP1/\" + FOLDER + \"/\"\n",
    "CSV_DIR = BASE_DIR + \"AnalysisMethods/AnalysisResults/XMovie/PP1/\" + FOLDER +\"/\" + \"csvs/\"\n"
   ]
  },
  {
   "cell_type": "markdown",
   "metadata": {},
   "source": [
    "#### A List for the Images Folders"
   ]
  },
  {
   "cell_type": "code",
   "execution_count": 8,
   "metadata": {
    "scrolled": true
   },
   "outputs": [],
   "source": [
    "dmso=[]\n",
    "cdki=[]\n",
    "dmso_path = IMAGE_DIR + 'dmso'\n",
    "cdki_path=IMAGE_DIR + 'cdki'\n",
    "\n",
    "for folder in glob.glob(dmso_path + '/*'):\n",
    "    dmso.append(dmso_path + '/' + folder.split('/')[-1].split('.')[0])\n",
    "for folder in glob.glob(cdki_path + '/*'):\n",
    "    cdki.append(cdki_path + '/' + folder.split('/')[-1].split('.')[0])     \n"
   ]
  },
  {
   "cell_type": "code",
   "execution_count": 9,
   "metadata": {
    "scrolled": true
   },
   "outputs": [
    {
     "name": "stdout",
     "output_type": "stream",
     "text": [
      "len of df is : 273\n",
      "len of df is : 362\n",
      "len of df is : 344\n",
      "len of df is : 203\n"
     ]
    }
   ],
   "source": [
    "# For DMSO\n",
    "\n",
    "for i in range(len(dmso)):\n",
    "    \n",
    "    df_nuf2,df_pp1=method_pp1(dmso[i],FOLDER) #,nuf2_cyto,pp1_cyto,nuf2_bg,pp1_bg\n",
    "    \n",
    "    df=pd.merge(df_nuf2, df_pp1,  how='outer',on=['label','area']\n",
    "                                                       ,suffixes=('_nuf2_CFP', '_YFP_pp1'))\n",
    "    #df['nuf2_CFP_cyto']=nuf2_cyto\n",
    "    #df['YFP_pp1_cyto']=pp1_cyto\n",
    "    #df['nuf2_CFP_bg']=nuf2_bg\n",
    "    #df['YFP_pp1_bg']=pp1_bg\n",
    "    \n",
    "    directory=dmso[i].split('/')[-1].split('.')[0] # to create a folder per experiment to save csvs\n",
    "    \n",
    "    path = CSV_DIR + 'dmso/' + directory\n",
    "    try:\n",
    "        os.makedirs(path)\n",
    "    except FileExistsError:\n",
    "    # directory already exists\n",
    "        pass\n",
    "    check_nan_in_df = df.isnull().values.any()\n",
    "   \n",
    "    if check_nan_in_df >0:\n",
    "        df=df.dropna()\n",
    "        print(\"NaNs removed from %s \" %( directory))\n",
    "    \n",
    "    \n",
    "  \n",
    "    df.to_csv(path + '/' + 'particles'+'.csv') \n",
    "    print(\"len of df is :\",len(df))\n",
    "   "
   ]
  },
  {
   "cell_type": "code",
   "execution_count": 10,
   "metadata": {
    "scrolled": true
   },
   "outputs": [
    {
     "name": "stdout",
     "output_type": "stream",
     "text": [
      "184\n",
      "171\n",
      "156\n"
     ]
    }
   ],
   "source": [
    "# For CDKi\n",
    "\n",
    "for i in range(len(cdki)):\n",
    "    \n",
    "    df_nuf2,df_pp1=method_pp1(cdki[i],FOLDER)#,nuf2_cyto_value,pp1_cyto_value,nuf2_bg,pp1_bg\n",
    "    \n",
    "    df=pd.merge(df_nuf2, df_pp1,  how='outer',on=['label','area']\n",
    "                                                       ,suffixes=('_nuf2_CFP', '_YFP_pp1'))\n",
    "    #df['nuf2_CFP_cyto']=nuf2_cyto_value\n",
    "    #df['YFP_pp1_cyto']=pp1_cyto_value\n",
    "    #df['nuf2_CFP_bg']=nuf2_bg\n",
    "    #df['YFP_pp1_bg']=pp1_bg\n",
    "    directory=cdki[i].split('/')[-1].split('.')[0] # to create a folder per experiment to save csvs\n",
    "    path = CSV_DIR + 'cdki/' + directory\n",
    "    try:\n",
    "        os.makedirs(path)\n",
    "    except FileExistsError:\n",
    "    # directory already exists\n",
    "        pass\n",
    "    \n",
    "    check_nan_in_df = df.isnull().values.any()\n",
    "    if check_nan_in_df >0:\n",
    "        df=df.dropna()\n",
    "        print(\"NaNs removed from %s \" %( directory))\n",
    "    df.to_csv(path + '/' + 'particles'+'.csv') \n",
    "    print(len(df))"
   ]
  },
  {
   "cell_type": "markdown",
   "metadata": {},
   "source": [
    "### Plots"
   ]
  },
  {
   "cell_type": "code",
   "execution_count": null,
   "metadata": {
    "scrolled": true
   },
   "outputs": [],
   "source": [
    "import seaborn as sns\n",
    "sns.set_style(\"whitegrid\")\n",
    "sns.set_context(\"notebook\",font_scale=1, rc={\"lines.linewidth\":2.5})\n",
    "\n",
    "# path to save graphs\n",
    "GRAPH_DIR=BASE_DIR + \"AnalysisMethods/AnalysisResults/XMovie/\" + FOLDER + \"/\" + \"graphs/\"\n"
   ]
  },
  {
   "cell_type": "code",
   "execution_count": null,
   "metadata": {
    "scrolled": true
   },
   "outputs": [],
   "source": [
    "# plot graphs \n",
    "# dmso vs cdki\n",
    "# The paths are for the generated csv files\n",
    "dmso_csv=[]\n",
    "cdki_csv=[]\n",
    "dmso_path = CSV_DIR + 'dmso'\n",
    "cdki_path=CSV_DIR + 'cdki'\n",
    "\n",
    "for folder in natsorted(glob.glob(dmso_path + '/*')):\n",
    "    dmso_csv.append(dmso_path + '/' + folder.split('/')[-1].split('.')[0])\n",
    "    \n",
    "for folder in natsorted(glob.glob(cdki_path + '/*')):\n",
    "    cdki_csv.append(cdki_path + '/' + folder.split('/')[-1].split('.')[0])  \n"
   ]
  },
  {
   "cell_type": "code",
   "execution_count": null,
   "metadata": {},
   "outputs": [],
   "source": [
    "# read cdki csvs to a dataframe\n",
    "cell_count=0\n",
    "df_graph_cdki=pd.DataFrame()\n",
    "for i in range(len(cdki_csv)):\n",
    "    df_cdki=pd.read_csv(cdki_csv[i]+'/'+'Particles.csv')\n",
    "    df_cdki['YFP_pp1@kt/YFP_pp1@cyto']= df_cdki['mean_intensity_YFP_pp1']/df_cdki['YFP_pp1_cyto']\n",
    "    df_cdki['nuf2_CFP@kt/nuf2_CFP@cyto']= df_cdki['mean_intensity_nuf2_CFP']/df_cdki['nuf2_CFP_cyto']\n",
    "    df_cdki['YFP_pp1@kt/YFP_pp1@cyto:nuf2_CFP@kt/nuf2_CFP@cyto']= df_cdki['YFP_pp1@kt/YFP_pp1@cyto'] / df_cdki['nuf2_CFP@kt/nuf2_CFP@cyto']\n",
    "    df_cdki['condition']='cdki'\n",
    "    df_cdki['cell']=FOLDER+\"_\"+'cdki_cell_'+str(cell_count)\n",
    "    expt_name=re.sub(r'^.+/([^/]+)$', r'\\1', cdki_csv[i])\n",
    "    df_cdki['Experiment']= expt_name#'cdki_%d'%i\n",
    "    fname=FOLDER +'cdki_'+ str(i)\n",
    "    df_cdki_final=outliers_pp1(df_cdki)\n",
    "    df_cdki_final.to_csv(BASE_DIR  + 'GraphAnalysis/PP1/'+FOLDER + '/' + fname +'.csv')\n",
    "    df_graph_cdki=pd.concat([df_graph_cdki,df_cdki_final],ignore_index=True)\n",
    "    cell_count+=1\n",
    "df_graph_cdki = df_graph_cdki.drop(columns=[\"Unnamed: 0\"], axis=1)\n",
    "df_graph_cdki.to_csv(BASE_DIR  + 'GraphAnalysis/PP1/'+FOLDER+'/' +FOLDER+ \"_\" +'cdki_pp1_graphs'+'.csv') \n",
    "len(df_graph_cdki)"
   ]
  },
  {
   "cell_type": "code",
   "execution_count": null,
   "metadata": {},
   "outputs": [],
   "source": [
    "# read dmso csvs to a dataframe\n",
    "cell_count=0\n",
    "df_graph_dmso=pd.DataFrame()\n",
    "for i in range(len(dmso_csv)):\n",
    "    df_dmso=pd.read_csv(dmso_csv[i]+'/'+'Particles.csv')\n",
    "    df_dmso['YFP_pp1@kt/YFP_pp1@cyto']= df_dmso['mean_intensity_YFP_pp1']/df_dmso['YFP_pp1_cyto']\n",
    "    df_dmso['nuf2_CFP@kt/nuf2_CFP@cyto']= df_dmso['mean_intensity_nuf2_CFP']/df_dmso['nuf2_CFP_cyto']\n",
    "    df_dmso['YFP_pp1@kt/YFP_pp1@cyto:nuf2_CFP@kt/nuf2_CFP@cyto']= df_dmso['YFP_pp1@kt/YFP_pp1@cyto'] / df_dmso['nuf2_CFP@kt/nuf2_CFP@cyto']\n",
    "    df_dmso['condition']='dmso'\n",
    "    df_dmso['cell']=FOLDER+\"_\"+'dmso_cell_'+str(cell_count)\n",
    "    expt_name=re.sub(r'^.+/([^/]+)$', r'\\1', dmso_csv[i])\n",
    "    df_dmso['Experiment']= expt_name#'cdki_%d'%i\n",
    "    fname=FOLDER +'dmso_'+ str(i)\n",
    "    df_dmso_final=outliers_pp1(df_dmso)\n",
    "    df_dmso_final.to_csv(BASE_DIR  + 'GraphAnalysis/pp1/'+FOLDER + '/' + fname +'.csv')\n",
    "    df_graph_dmso=pd.concat([df_graph_dmso,df_dmso_final],ignore_index=True)\n",
    "    cell_count+=1\n",
    "df_graph_dmso = df_graph_dmso.drop(columns=[\"Unnamed: 0\"], axis=1)\n",
    "df_graph_dmso.to_csv(BASE_DIR  + 'GraphAnalysis/pp1/'+FOLDER+'/' +FOLDER+ \"_\" +'dmso_pp1_graphs'+'.csv') "
   ]
  },
  {
   "cell_type": "code",
   "execution_count": null,
   "metadata": {},
   "outputs": [],
   "source": [
    "df_graph=pd.DataFrame()\n",
    "df_graph=pd.concat([df_graph,df_graph_cdki,df_graph_dmso],ignore_index=True)\n",
    "print(len(df_graph_cdki))\n",
    "print(len(df_graph_dmso))\n",
    "print(len(df_graph))\n",
    "df_graph.head()\n",
    "df_graph.to_csv(BASE_DIR  + 'GraphAnalysis/pp1/'+FOLDER+'/' +FOLDER+ \"_\" + 'pp1_combined_graphs'+'.csv') \n"
   ]
  },
  {
   "cell_type": "markdown",
   "metadata": {},
   "source": [
    "### pp1@kt/pp1@cyto"
   ]
  },
  {
   "cell_type": "code",
   "execution_count": null,
   "metadata": {},
   "outputs": [],
   "source": [
    "### checking plots\n",
    "\n",
    "import seaborn as sns\n",
    "\n",
    "title=\"YFP_pp1@kt:YFP_pp1@cyto - CDKi Vs DMSO- Density\"\n",
    "plt.figure(figsize=(12,12))\n",
    "sns.set_theme(style=\"whitegrid\")\n",
    "\n",
    "sns_plot=sns.kdeplot(data=df_graph, x=\"YFP_pp1@kt/YFP_pp1@cyto\",hue='condition', multiple=\"stack\").set_title(title,fontsize=25)\n",
    "plt.figtext(0.85, 0.8, 'cells=%s'%(cell_count), horizontalalignment='center',verticalalignment='center')\n",
    "sns_plot=sns.displot(data=df_graph, x=\"YFP_pp1@kt/YFP_pp1@cyto\",hue='condition')\n",
    "#plt.figtext(1, 0.4, 'cells=%s'%(cell_count), horizontalalignment='center',verticalalignment='center')\n",
    "\n",
    "\n",
    "title=\"YFP_pp1@kt:YFP_pp1@cyto - CDKi Vs DMSO- Violin\"\n",
    "plt.figure(figsize=(12,12))\n",
    "sns.set_theme(style=\"whitegrid\")\n",
    "\n",
    "\n",
    "# Draw a nested violinplot and split the violins for easier comparison\n",
    "sns_plot=sns.violinplot(data=df_graph, x=\"condition\", y=\"YFP_pp1@kt/YFP_pp1@cyto\", hue=\"condition\",\n",
    "              inner=\"quart\",order=[\"dmso\",\"cdki\"]\n",
    "               ).set_title(title,fontsize=25)\n",
    "sns.despine(right=True)\n",
    "\n",
    "from scipy import stats\n",
    "\n"
   ]
  },
  {
   "cell_type": "code",
   "execution_count": null,
   "metadata": {},
   "outputs": [],
   "source": [
    "import seaborn as sns\n",
    "\n",
    "title=\"YFP_pp1@kt:YFP_pp1@cyto - CDKi Vs DMSO- Density\"\n",
    "plt.figure(figsize=(12,12))\n",
    "sns.set_theme(style=\"whitegrid\")\n",
    "\n",
    "sns_plot=sns.kdeplot(data=df_graph, x=\"YFP_pp1@kt/YFP_pp1@cyto\",hue='condition').set_title(title,fontsize=25)\n",
    "#sns_plot.figure.savefig(GRAPH_DIR+title, bbox_inches=\"tight\",dpi=300)\n",
    "\n",
    "\n",
    "title=\"YFP_pp1@kt:YFP_pp1@cyto - CDKi Vs DMSO- Violin\"\n",
    "plt.figure(figsize=(12,12))\n",
    "sns.set_theme(style=\"whitegrid\")\n",
    "\n",
    "\n",
    "# Draw a nested violinplot and split the violins for easier comparison\n",
    "sns_plot=sns.violinplot(data=df_graph, x=\"condition\", y=\"YFP_pp1@kt/YFP_pp1@cyto\", hue=\"Experiment\",\n",
    "              inner=\"quart\",\n",
    "               ).set_title(title,fontsize=25)\n",
    "\n",
    "#sns_plot.figure.savefig(GRAPH_DIR+title, bbox_inches=\"tight\",dpi=300)\n",
    "sns.despine(left=True)\n",
    "\n",
    "#title=\"pp1@kt:pp1@cyto - CDKi Vs DMSO- Box\"\n",
    "#plt.figure(figsize=(12,12))\n",
    "#sns_plot=sns.boxplot(x=\"condition\", y=\"pp1@kt/pp1@cyto\",hue=\"Experiment\",data=df_graph).set_title(title)\n",
    "#sns_plot.figure.savefig(GRAPH_DIR+title, bbox_inches=\"tight\",dpi=300)\n",
    "\n",
    "#title=\"pp1@kt:pp1@cyto - CDKi Vs DMSO- Bar\"\n",
    "#plt.figure(figsize=(12,12))\n",
    "\n",
    "#sns_plot = sns.barplot(\n",
    "#        data=df_graph,\n",
    "#        x=\"condition\",\n",
    "#        y=\"pp1@kt/pp1@cyto\",\n",
    "#        hue=\"Experiment\"\n",
    "#    ).set_title(title)\n",
    "#sns_plot.figure.savefig(GRAPH_DIR+title, bbox_inches=\"tight\",dpi=300)\n",
    "plt.show()\n",
    "\n",
    "\n",
    "\n"
   ]
  },
  {
   "cell_type": "code",
   "execution_count": null,
   "metadata": {},
   "outputs": [],
   "source": []
  },
  {
   "cell_type": "markdown",
   "metadata": {},
   "source": [
    "### nuf2@kt : nuf2@cyto"
   ]
  },
  {
   "cell_type": "code",
   "execution_count": null,
   "metadata": {},
   "outputs": [],
   "source": [
    "import seaborn as sns\n",
    "title=\"nuf2_CFP@kt:nuf2_CFP@cyto - CDKi Vs DMSO- Density\"\n",
    "plt.figure(figsize=(12,12))\n",
    "sns.set_theme(style=\"whitegrid\")\n",
    "\n",
    "sns_plot=sns.kdeplot(data=df_graph, x=\"nuf2_CFP@kt/nuf2_CFP@cyto\",hue='condition').set_title(title,fontsize=25)\n",
    "sns_plot.figure.savefig(GRAPH_DIR+title, bbox_inches=\"tight\",dpi=300)\n",
    "\n",
    "title=\"nuf2_CFP@kt:nuf2_CFP@cyto - CDKi Vs DMSO- Violin\"\n",
    "plt.figure(figsize=(12,12))\n",
    "sns.set_theme(style=\"whitegrid\")\n",
    "# Draw a nested violinplot and split the violins for easier comparison\n",
    "sns_plot=sns.violinplot(data=df_graph, x=\"condition\", y=\"nuf2_CFP@kt/nuf2_CFP@cyto\", hue=\"Experiment\",\n",
    "              inner=\"quart\",\n",
    "               ).set_title(title,fontsize=25)\n",
    "\n",
    "sns_plot.figure.savefig(GRAPH_DIR+title, bbox_inches=\"tight\",dpi=300)\n",
    "sns.despine(left=True)\n",
    "\n",
    "plt.show()"
   ]
  },
  {
   "cell_type": "markdown",
   "metadata": {},
   "source": [
    "### pp1@kt/pp1@cyto:nuf2@kt/nuf2@cyto"
   ]
  },
  {
   "cell_type": "code",
   "execution_count": null,
   "metadata": {},
   "outputs": [],
   "source": []
  },
  {
   "cell_type": "code",
   "execution_count": null,
   "metadata": {},
   "outputs": [],
   "source": [
    "import seaborn as sns\n",
    "title=\"YFP_pp1@kt:YFP_pp1@cyto To nuf2_CFP@kt:nuf2_CFP@cyto - CDKi Vs DMSO- Density\"\n",
    "plt.figure(figsize=(12,12))\n",
    "sns.set_theme(style=\"whitegrid\")\n",
    "\n",
    "sns_plot=sns.kdeplot(data=df_graph, x=\"YFP_pp1@kt/YFP_pp1@cyto:nuf2_CFP@kt/nuf2_CFP@cyto\",hue='condition').set_title(title,fontsize=25)\n",
    "sns_plot.figure.savefig(GRAPH_DIR+title, bbox_inches=\"tight\",dpi=300)\n",
    "\n",
    "title=\"YFP_pp1@kt:YFP_pp1@cyto to nuf2_CFP@kt: nuf2_CFP@cyto - CDKi Vs DMSO- Violin\"\n",
    "plt.figure(figsize=(12,12))\n",
    "sns.set_theme(style=\"whitegrid\")\n",
    "# Draw a nested violinplot and split the violins for easier comparison\n",
    "sns_plot=sns.violinplot(data=df_graph, x=\"condition\", y=\"YFP_pp1@kt/YFP_pp1@cyto:nuf2_CFP@kt/nuf2_CFP@cyto\", hue=\"Experiment\",\n",
    "              inner=\"quart\",\n",
    "               ).set_title(title,fontsize=25)\n",
    "\n",
    "sns_plot.figure.savefig(GRAPH_DIR+title, bbox_inches=\"tight\",dpi=300)\n",
    "sns.despine(left=True)\n",
    "\n",
    "plt.show()"
   ]
  },
  {
   "cell_type": "code",
   "execution_count": null,
   "metadata": {},
   "outputs": [],
   "source": []
  },
  {
   "cell_type": "code",
   "execution_count": null,
   "metadata": {},
   "outputs": [],
   "source": [
    "import seaborn as sns\n",
    "title=\"nuf2_CFP@kt:nuf2_CFP@cyto To YFP_pp1@kt:YFP_pp1@cyto - CDKi Vs DMSO- Density\"\n",
    "plt.figure(figsize=(12,12))\n",
    "sns.set_theme(style=\"whitegrid\")\n",
    "\n",
    "sns_plot=sns.kdeplot(data=df_graph, x=\"nuf2_CFP@kt/nuf2_CFP@cyto:YFP_pp1@kt/YFP_pp1@cyto\",hue='condition').set_title(title,fontsize=25)\n",
    "sns_plot.figure.savefig(GRAPH_DIR+title, bbox_inches=\"tight\",dpi=300)\n",
    "\n",
    "title=\"nuf2_CFP@kt:nuf2_CFP@cyto To YFP_pp1@kt:YFP_pp1@cyto- CDKi Vs DMSO- Violin\"\n",
    "plt.figure(figsize=(12,12))\n",
    "sns.set_theme(style=\"whitegrid\")\n",
    "# Draw a nested violinplot and split the violins for easier comparison\n",
    "sns_plot=sns.violinplot(data=df_graph, x=\"condition\", y='nuf2_CFP@kt/nuf2_CFP@cyto:YFP_pp1@kt/YFP_pp1@cyto', hue=\"Experiment\",\n",
    "              inner=\"quart\",\n",
    "               ).set_title(title,fontsize=25)\n",
    "\n",
    "sns_plot.figure.savefig(GRAPH_DIR+title, bbox_inches=\"tight\",dpi=300)\n",
    "sns.despine(left=True)\n",
    "\n",
    "plt.show()"
   ]
  },
  {
   "cell_type": "code",
   "execution_count": null,
   "metadata": {},
   "outputs": [],
   "source": [
    "plt.figure(figsize=(12,12))\n",
    "sns.set(font_scale=1.5)\n",
    "title='PairPlot - Condition'\n",
    "sns_plot=sns.pairplot(df_graph, hue=\"condition\")\n",
    "\n",
    "replacements = {'mean_intensity_YFP_pp1': 'YFP_pp1_int','mean_intensity_nuf2_CFP': 'nuf2_CFP_int', 'YFP_pp1@kt/YFP_pp1@cyto': 'YFP_pp1@kt/YFP_pp1@cyto',\n",
    "                'nuf2_CFP@kt/nuf2_CFP@cyto': 'nuf2_CFP@kt/nuf2_CFP@cyto','nuf2_CFP@kt/nuf2_CFP@cyto:YFP_pp1@kt/YFP_pp1@cyto':'nuf2@kt/nuf2@cyto:YFP_pp1@kt/YFP_pp1@cyto',\n",
    "               'YFP_pp1@kt/YFP_pp1@cyto:nuf2_CFP@kt/nuf2_CFP@cyto':'YFP_pp1@kt/YFP_pp1@cyto:nuf2_CFP@kt/nuf2_CFP@cyto'}\n",
    "\n",
    "for i in range(6):\n",
    "    for j in range(6):\n",
    "        xlabel = sns_plot.axes[i][j].get_xlabel()\n",
    "        ylabel = sns_plot.axes[i][j].get_ylabel()\n",
    "        if xlabel in replacements.keys():\n",
    "            sns_plot.axes[i][j].set_xlabel(replacements[xlabel],rotation=90)\n",
    "           \n",
    "        if ylabel in replacements.keys():\n",
    "            sns_plot.axes[i][j].set_ylabel(replacements[ylabel],rotation=0,ha=\"right\")\n",
    "            \n",
    "            \n",
    "\n",
    "\n",
    "sns_plot.savefig(GRAPH_DIR+title, bbox_inches=\"tight\",dpi=300)\n",
    "plt.show()"
   ]
  },
  {
   "cell_type": "code",
   "execution_count": null,
   "metadata": {},
   "outputs": [],
   "source": [
    "plt.figure(figsize=(12,12))\n",
    "title=\"PairPlot - Experiment\"\n",
    "sns.set(font_scale=1.5)\n",
    "\n",
    "sns_plot=sns.pairplot(df_graph, hue=\"Experiment\")\n",
    "\n",
    "replacements = {'mean_intensity_YFP_pp1': 'YFP_pp1_int','mean_intensity_nuf2_CFP': 'nuf2_CFP_int', 'YFP_pp1@kt/YFP_pp1@cyto': 'YFP_pp1@kt/YFP_pp1@cyto',\n",
    "                'nuf2_CFP@kt/nuf2_CFP@cyto': 'nuf2_CFP@kt/nuf2_CFP@cyto','nuf2_CFP@kt/nuf2_CFP@cyto:YFP_pp1@kt/YFP_pp1@cyto':'nuf2@kt/nuf2@cyto:YFP_pp1@kt/YFP_pp1@cyto',\n",
    "               'YFP_pp1@kt/YFP_pp1@cyto:nuf2_CFP@kt/nuf2_CFP@cyto':'YFP_pp1@kt/YFP_pp1@cyto:nuf2_CFP@kt/nuf2_CFP@cyto'}\n",
    "\n",
    "\n",
    "for i in range(6):\n",
    "    for j in range(6):\n",
    "        xlabel = sns_plot.axes[i][j].get_xlabel()\n",
    "        ylabel = sns_plot.axes[i][j].get_ylabel()\n",
    "        if xlabel in replacements.keys():\n",
    "            sns_plot.axes[i][j].set_xlabel(replacements[xlabel],rotation=90)\n",
    "        if ylabel in replacements.keys():\n",
    "            sns_plot.axes[i][j].set_ylabel(replacements[ylabel],rotation=0,ha=\"right\")\n",
    "\n",
    "sns_plot.savefig(GRAPH_DIR+title, bbox_inches=\"tight\",dpi=300)\n",
    "plt.show()"
   ]
  },
  {
   "cell_type": "code",
   "execution_count": null,
   "metadata": {},
   "outputs": [],
   "source": []
  },
  {
   "cell_type": "code",
   "execution_count": null,
   "metadata": {},
   "outputs": [],
   "source": []
  }
 ],
 "metadata": {
  "kernelspec": {
   "display_name": "Python 3",
   "language": "python",
   "name": "python3"
  },
  "language_info": {
   "codemirror_mode": {
    "name": "ipython",
    "version": 3
   },
   "file_extension": ".py",
   "mimetype": "text/x-python",
   "name": "python",
   "nbconvert_exporter": "python",
   "pygments_lexer": "ipython3",
   "version": "3.7.0"
  }
 },
 "nbformat": 4,
 "nbformat_minor": 4
}
