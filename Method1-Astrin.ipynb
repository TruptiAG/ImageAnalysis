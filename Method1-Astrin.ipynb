{
 "cells": [
  {
   "cell_type": "markdown",
   "metadata": {},
   "source": [
    "To measure mKate2_mKate2_astrin intensities "
   ]
  },
  {
   "cell_type": "code",
   "execution_count": 3,
   "metadata": {
    "scrolled": true
   },
   "outputs": [],
   "source": [
    "# import necessary modules\n",
    "from skimage import io\n",
    "import matplotlib.pyplot as plt\n",
    "import numpy as np\n",
    "import skimage.filters as filters\n",
    "import skimage.color as color\n",
    "from PIL import Image\n",
    "import pandas as pd\n",
    "from skimage.util import img_as_float\n",
    "from skimage.color import label2rgb, rgb2gray,gray2rgb\n",
    "from skimage import segmentation,morphology,feature,measure,filters\n",
    "from scipy import ndimage as ndi\n",
    "import glob\n",
    "from natsort import natsorted \n",
    "import os\n",
    "import glob\n",
    "import re\n",
    "import random"
   ]
  },
  {
   "cell_type": "code",
   "execution_count": 30,
   "metadata": {
    "scrolled": true
   },
   "outputs": [],
   "source": [
    "# import function file\n",
    "%run functions-Method1.ipynb\n",
    "random.seed(3)"
   ]
  },
  {
   "cell_type": "code",
   "execution_count": 31,
   "metadata": {
    "scrolled": true
   },
   "outputs": [],
   "source": [
    "# path to the local folder for the notebooks\n",
    "# change path to your folders accordingly\n",
    "BASE_DIR=\"/Users/Trupti/01-LIDo/02-VijiProject/ImageAnalysis/\" \n",
    "#path to the image folder. # change the name of the folder for different dataset\n",
    "FOLDER=\"set3_timelapse\"\n",
    "IMAGE_DIR=BASE_DIR + \"data/XMovie/Astrin/\" + FOLDER + \"/\"\n",
    "CSV_DIR = BASE_DIR + \"AnalysisMethods/AnalysisResults/XMovie/Astrin/\" + FOLDER +\"/\" + \"csvs/\"\n"
   ]
  },
  {
   "cell_type": "markdown",
   "metadata": {},
   "source": [
    "#### A List for the Images Folders"
   ]
  },
  {
   "cell_type": "code",
   "execution_count": 32,
   "metadata": {
    "scrolled": true
   },
   "outputs": [],
   "source": [
    "dmso=[]\n",
    "cdki=[]\n",
    "dmso_path = IMAGE_DIR + 'dmso'\n",
    "cdki_path=IMAGE_DIR + 'cdki'\n",
    "\n",
    "for folder in glob.glob(dmso_path + '/*'):\n",
    "    dmso.append(dmso_path + '/' + folder.split('/')[-1].split('.')[0])\n",
    "for folder in glob.glob(cdki_path + '/*'):\n",
    "    cdki.append(cdki_path + '/' + folder.split('/')[-1].split('.')[0])     \n"
   ]
  },
  {
   "cell_type": "code",
   "execution_count": 33,
   "metadata": {
    "scrolled": true
   },
   "outputs": [
    {
     "data": {
      "text/plain": [
       "<Figure size 432x288 with 0 Axes>"
      ]
     },
     "metadata": {},
     "output_type": "display_data"
    }
   ],
   "source": [
    "# For DMSO\n",
    "\n",
    "for i in range(len(dmso)):\n",
    "\n",
    "    df_nuf2_GFP,df_mKate2_astrin=method_astrin(dmso[i],FOLDER)#,nuf2_GFP_cyto,mKate2_astrin_cyto,nuf2_GFP_bg,mKate2_astrin_bg\n",
    "    \n",
    "    df=pd.merge(df_nuf2_GFP, df_mKate2_astrin,  how='outer',on=['label','area']\n",
    "                                                       ,suffixes=('_nuf2_GFP', '_mKate2_astrin'))\n",
    "    #df['nuf2_GFP_cyto']=nuf2_GFP_cyto\n",
    "    #df['mKate2_astrin_cyto']=mKate2_astrin_cyto\n",
    "    #df['nuf2_GFP_bg']=nuf2_GFP_bg\n",
    "    #df['mKate2_astrin_bg']=mKate2_astrin_bg\n",
    "    \n",
    "    directory=dmso[i].split('/')[-1].split('.')[0] # to create a folder per experiment to save csvs\n",
    "    path = CSV_DIR + 'dmso/' + directory\n",
    "    try:\n",
    "        os.makedirs(path)\n",
    "    except FileExistsError:\n",
    "    # directory already exists\n",
    "        pass\n",
    "    check_nan_in_df = df.isnull().values.any()\n",
    "    if check_nan_in_df >0:\n",
    "        df=df.dropna()\n",
    "        print(\"NaNs removed from %s \" %( directory))\n",
    "    \n",
    "  \n",
    "    df.to_csv(path + '/' + 'particles'+'.csv') \n",
    "    #print(df['mKate2_astrin_cyto'])\n",
    "   "
   ]
  },
  {
   "cell_type": "code",
   "execution_count": 34,
   "metadata": {
    "scrolled": true
   },
   "outputs": [
    {
     "name": "stdout",
     "output_type": "stream",
     "text": [
      "NaNs removed from Expt2020_017_setIII_STLC_GM132_RO3306_mKate2-Astrin_Nuf2-GFP_GFP_mCherry_timelapse_02_R3D_D3D \n"
     ]
    },
    {
     "data": {
      "text/plain": [
       "<Figure size 432x288 with 0 Axes>"
      ]
     },
     "metadata": {},
     "output_type": "display_data"
    }
   ],
   "source": [
    "# For CDKi\n",
    "\n",
    "for i in range(len(cdki)):\n",
    "    \n",
    "    df_nuf2_GFP,df_mKate2_astrin=method_astrin(cdki[i],FOLDER)#,nuf2_GFP_cyto,mKate2_astrin_cyto,nuf2_GFP_bg,mKate2_astrin_bg\n",
    "    \n",
    "    df=pd.merge(df_nuf2_GFP, df_mKate2_astrin,  how='outer',on=['label','area']\n",
    "                                                       ,suffixes=('_nuf2_GFP', '_mKate2_astrin'))\n",
    "    #df['nuf2_GFP_cyto']=nuf2_GFP_cyto\n",
    "    #df['mKate2_astrin_cyto']=mKate2_astrin_cyto\n",
    "    #df['nuf2_GFP_bg']=nuf2_GFP_bg\n",
    "    #df['mKate2_astrin_bg']=mKate2_astrin_bg\n",
    "    \n",
    "    directory=cdki[i].split('/')[-1].split('.')[0] # to create a folder per experiment to save csvs\n",
    "    path = CSV_DIR + 'cdki/' + directory\n",
    "    try:\n",
    "        os.makedirs(path)\n",
    "    except FileExistsError:\n",
    "    # directory already exists\n",
    "        pass\n",
    "    check_nan_in_df = df.isnull().values.any()\n",
    "    if check_nan_in_df >0:\n",
    "        df=df.dropna()\n",
    "        print(\"NaNs removed from %s \" %( directory))\n",
    "    df.to_csv(path + '/' + 'particles'+'.csv') \n",
    "   "
   ]
  },
  {
   "cell_type": "markdown",
   "metadata": {},
   "source": [
    "### Plots"
   ]
  },
  {
   "cell_type": "code",
   "execution_count": 35,
   "metadata": {
    "scrolled": true
   },
   "outputs": [],
   "source": [
    "import seaborn as sns\n",
    "sns.set_style(\"whitegrid\")\n",
    "sns.set_context(\"notebook\",font_scale=1, rc={\"lines.linewidth\":2.5})\n",
    "\n",
    "# path to save graphs\n",
    "GRAPH_DIR=BASE_DIR + \"AnalysisMethods/AnalysisResults/XMovie/\" + FOLDER + \"/\" + \"graphs/\"\n"
   ]
  },
  {
   "cell_type": "code",
   "execution_count": 36,
   "metadata": {
    "scrolled": true
   },
   "outputs": [],
   "source": [
    "# plot graphs \n",
    "# dmso vs cdki\n",
    "# The paths are for the generated csv files\n",
    "dmso_csv=[]\n",
    "cdki_csv=[]\n",
    "dmso_path = CSV_DIR + 'dmso'\n",
    "cdki_path=CSV_DIR + 'cdki'\n",
    "\n",
    "for folder in natsorted(glob.glob(dmso_path + '/*')):\n",
    "    dmso_csv.append(dmso_path + '/' + folder.split('/')[-1].split('.')[0])\n",
    "    \n",
    "for folder in natsorted(glob.glob(cdki_path + '/*')):\n",
    "    cdki_csv.append(cdki_path + '/' + folder.split('/')[-1].split('.')[0])  \n"
   ]
  },
  {
   "cell_type": "code",
   "execution_count": 37,
   "metadata": {},
   "outputs": [],
   "source": [
    "# "
   ]
  },
  {
   "cell_type": "code",
   "execution_count": 38,
   "metadata": {},
   "outputs": [],
   "source": [
    "# read cdki csvs to a dataframe\n",
    "cell_count=0\n",
    "df_graph_cdki=pd.DataFrame()\n",
    "for i in range(len(cdki_csv)):\n",
    "    df_cdki=pd.read_csv(cdki_csv[i]+'/'+'Particles.csv')\n",
    "    \n",
    "    df_cdki['mKate2_astrin@kt/mKate2_astrin@cyto']= df_cdki['mean_intensity_mKate2_astrin']/df_cdki['mKate2_astrin_cyto']\n",
    "   \n",
    "    \n",
    "    df_cdki['nuf2_GFP@kt/nuf2_GFP@cyto']= df_cdki['mean_intensity_nuf2_GFP']/df_cdki['nuf2_GFP_cyto']\n",
    "    df_cdki['mKate2_astrin@kt/mKate2_astrin@cyto:nuf2_GFP@kt/nuf2_GFP@cyto']= df_cdki['mKate2_astrin@kt/mKate2_astrin@cyto'] / df_cdki['nuf2_GFP@kt/nuf2_GFP@cyto']\n",
    "    df_cdki['condition']='cdki'\n",
    "    df_cdki['cell']=FOLDER+\"_\"+'cdki_cell_'+str(cell_count)\n",
    "    expt_name=re.sub(r'^.+/([^/]+)$', r'\\1', cdki_csv[i])\n",
    "    df_cdki['Experiment']= expt_name#'cdki_%d'%i\n",
    "    fname=FOLDER +'cdki_'+ str(i)\n",
    "    df_cdki_final=outliers_mkate2_astrin(df_cdki)\n",
    "    df_cdki_final.to_csv(BASE_DIR  + 'GraphAnalysis/mkate2-astrin/'+FOLDER + '/' + fname +'.csv')\n",
    "    df_graph_cdki=pd.concat([df_graph_cdki,df_cdki_final],ignore_index=True)\n",
    "    cell_count+=1\n",
    "df_graph_cdki = df_graph_cdki.drop(columns=[\"Unnamed: 0\"], axis=1)\n",
    "\n",
    "df_graph_cdki.to_csv(BASE_DIR  + 'GraphAnalysis/mkate2-astrin/'+FOLDER+'/'+FOLDER+ \"_\"+'cdki_astrin_graphs'+'.csv') "
   ]
  },
  {
   "cell_type": "code",
   "execution_count": 39,
   "metadata": {},
   "outputs": [],
   "source": [
    "# read dmso csv\n",
    "cell_count=0\n",
    "df_graph_dmso=pd.DataFrame()\n",
    "for i in range(len(dmso_csv)):\n",
    "    df_dmso=pd.read_csv(dmso_csv[i]+'/'+'Particles.csv')\n",
    "    \n",
    "    df_dmso['mKate2_astrin@kt/mKate2_astrin@cyto']= df_dmso['mean_intensity_mKate2_astrin']/df_dmso['mKate2_astrin_cyto']\n",
    "   \n",
    "    \n",
    "    df_dmso['nuf2_GFP@kt/nuf2_GFP@cyto']= df_dmso['mean_intensity_nuf2_GFP']/df_dmso['nuf2_GFP_cyto']\n",
    "    df_dmso['mKate2_astrin@kt/mKate2_astrin@cyto:nuf2_GFP@kt/nuf2_GFP@cyto']= df_dmso['mKate2_astrin@kt/mKate2_astrin@cyto'] / df_dmso['nuf2_GFP@kt/nuf2_GFP@cyto']\n",
    "    df_dmso['condition']='dmso'\n",
    "    df_dmso['cell']=FOLDER+\"_\"+'dmso_cell_'+str(cell_count)\n",
    "    expt_name=re.sub(r'^.+/([^/]+)$', r'\\1', dmso_csv[i])\n",
    "    fname=FOLDER+'dmso_'+ str(i)\n",
    "    df_dmso['Experiment']= expt_name#'cdki_%d'%i\n",
    "    df_dmso_final=outliers_mkate2_astrin(df_dmso)\n",
    "    df_dmso_final.to_csv(BASE_DIR  + 'GraphAnalysis/mkate2-astrin/'+FOLDER + '/'+fname +'.csv')\n",
    "    df_graph_dmso=pd.concat([df_graph_dmso,df_dmso_final],ignore_index=True)\n",
    "    cell_count+=1\n",
    "\n",
    "\n",
    "df_graph_dmso = df_graph_dmso.drop(columns=[\"Unnamed: 0\"], axis=1)\n",
    "df_graph_dmso.to_csv(BASE_DIR  + 'GraphAnalysis/mkate2-astrin/'+FOLDER+'/' +FOLDER+ \"_\" +'dmso_astrin_graphs'+'.csv') \n"
   ]
  },
  {
   "cell_type": "code",
   "execution_count": 40,
   "metadata": {},
   "outputs": [
    {
     "name": "stdout",
     "output_type": "stream",
     "text": [
      "4635\n",
      "2351\n",
      "6986\n"
     ]
    }
   ],
   "source": [
    "df_graph=pd.DataFrame()\n",
    "df_graph=pd.concat([df_graph,df_graph_cdki,df_graph_dmso],ignore_index=True)\n",
    "print(len(df_graph_cdki))\n",
    "print(len(df_graph_dmso))\n",
    "print(len(df_graph))\n",
    "\n",
    "df_graph.to_csv(BASE_DIR  + 'GraphAnalysis/mkate2-astrin/'+FOLDER+'/' +FOLDER+ \"_\" + 'astrin_combined_graphs'+'.csv') \n"
   ]
  },
  {
   "cell_type": "code",
   "execution_count": 15,
   "metadata": {},
   "outputs": [],
   "source": [
    "# count the number of KTs in CDKi and DMSO\n",
    "cdki = df_graph[df_graph['condition']=='cdki'].shape[0]\n",
    "dmso = df_graph[df_graph['condition']=='dmso'].shape[0]"
   ]
  }
 ],
 "metadata": {
  "kernelspec": {
   "display_name": "Python 3",
   "language": "python",
   "name": "python3"
  },
  "language_info": {
   "codemirror_mode": {
    "name": "ipython",
    "version": 3
   },
   "file_extension": ".py",
   "mimetype": "text/x-python",
   "name": "python",
   "nbconvert_exporter": "python",
   "pygments_lexer": "ipython3",
   "version": "3.7.0"
  }
 },
 "nbformat": 4,
 "nbformat_minor": 4
}
